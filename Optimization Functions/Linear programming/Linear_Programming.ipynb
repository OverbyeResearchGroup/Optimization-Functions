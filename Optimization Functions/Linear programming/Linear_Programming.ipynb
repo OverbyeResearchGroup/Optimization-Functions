{
  "nbformat": 4,
  "nbformat_minor": 0,
  "metadata": {
    "colab": {
      "name": "Linear_Programming.ipynb",
      "provenance": [],
      "collapsed_sections": [],
      "authorship_tag": "ABX9TyOv5AbpkT4GFWFyymknSHOf",
      "include_colab_link": true
    },
    "kernelspec": {
      "name": "python3",
      "display_name": "Python 3"
    },
    "language_info": {
      "name": "python"
    }
  },
  "cells": [
    {
      "cell_type": "markdown",
      "metadata": {
        "id": "view-in-github",
        "colab_type": "text"
      },
      "source": [
        "<a href=\"https://colab.research.google.com/github/TThomas001/Python-for-Research-lecture-note/blob/main/Linear_Programming.ipynb\" target=\"_parent\"><img src=\"https://colab.research.google.com/assets/colab-badge.svg\" alt=\"Open In Colab\"/></a>"
      ]
    },
    {
      "cell_type": "markdown",
      "source": [
        "#Optimization\n",
        "\n",
        "- Model: LP, QP, SOCP, SDP, MIP, IP, MINLP, NLP...\n",
        "  - categorized based on : `variables` `constraints` `objective` types\n",
        "- Algorithms:gradient descent,simplex, interior point method...\n",
        "  - need consider: run time | accuracy | memory \n",
        "- Solvers:CPLEX, Mosek, Gurobi, ECOS, Clp, Knitro, Lpopt\n",
        "  - Implemntations of algorthms (libary)\n",
        "\n",
        "\n"
      ],
      "metadata": {
        "id": "i4YOjq5PYUpN"
      }
    },
    {
      "cell_type": "markdown",
      "source": [
        "# Intro to Linear Programing"
      ],
      "metadata": {
        "id": "DL-8i5Rs4E9b"
      }
    },
    {
      "cell_type": "markdown",
      "source": [
        "This section use [Google OR-Tools] to solving optimization problem\n",
        "\n",
        "resources:\n",
        "- [Linear Programming Course](https://github.com/mlabonne/Linear-Programming-Course)\n",
        "- [OR-Tools Guides](https://developers.google.com/optimization/introduction/python#setting_up_python)\n",
        "- [Lecture note and case study](https://laurentlessard.com/teaching/524-intro-to-optimization/)\n",
        "\n",
        "[Google OR-Tools]:https://developers.google.com/optimization\n"
      ],
      "metadata": {
        "id": "V5D-oDZY1Q-5"
      }
    },
    {
      "cell_type": "code",
      "execution_count": 1,
      "metadata": {
        "id": "o8VvMlCm0YnT",
        "colab": {
          "base_uri": "https://localhost:8080/"
        },
        "outputId": "75808e40-88de-478a-ab01-d57756024e25"
      },
      "outputs": [
        {
          "output_type": "stream",
          "name": "stdout",
          "text": [
            "\u001b[K     |████████████████████████████████| 15.5 MB 22.6 MB/s \n",
            "\u001b[K     |████████████████████████████████| 407 kB 60.4 MB/s \n",
            "\u001b[31mERROR: pip's dependency resolver does not currently take into account all the packages that are installed. This behaviour is the source of the following dependency conflicts.\n",
            "tensorflow 2.8.0+zzzcolab20220506162203 requires tf-estimator-nightly==2.8.0.dev2021122109, which is not installed.\n",
            "tensorflow-metadata 1.8.0 requires protobuf<4,>=3.13, but you have protobuf 4.21.0 which is incompatible.\u001b[0m\n",
            "\u001b[?25h"
          ]
        }
      ],
      "source": [
        "!python -m pip install --upgrade --user -q ortools\n",
        "# restart runtime after installation"
      ]
    },
    {
      "cell_type": "markdown",
      "source": [
        "#Example Problme\n",
        "<details><summary>Top Brass Trophy problem (Ex. 5.1 in Rardin'98)</summary>\n",
        "\n",
        "Top Brass Trophy Company makes large championship trophies for youth athletic leagues. At the moment, they are planning production for fall sports: **football** and **soccer**. Each football trophy has a wood base, an engraved plaque, a large brass football on top, and returns **\\$12** in profit. Soccer trophies are similar except that a brass soccer ball is on top, and the unit profit is only **\\$9**. Since the football has an asymmetric shape, its base requires **4 board feet of wood**; the soccer base requires only **2 board feet**. At the moment there are **1000 brass footballs in stock**, **1500 soccer balls**, **1750 plaques**, and **4800 board feet of wood**. What trophies should be produced from these supplies to maximize total profit assuming that all that are made can be sold?\n",
        "</details>"
      ],
      "metadata": {
        "id": "LKpdzYTrHhbq"
      }
    },
    {
      "cell_type": "code",
      "source": [
        "from ortools.linear_solver import pywraplp\n",
        "# Create a linear solver using the GLOP backend\n",
        "solver = pywraplp.Solver('Top Brass Trophy problem', pywraplp.Solver.GLOP_LINEAR_PROGRAMMING)"
      ],
      "metadata": {
        "id": "952VKMdj3j0s"
      },
      "execution_count": null,
      "outputs": []
    },
    {
      "cell_type": "markdown",
      "source": [
        "- Decision variables: objective (parameters)\n",
        "  - `NumVar` continous variables\n",
        "  - `IntVar` interger vraibles\n",
        "  - `BoolVar` boolean varaibles\n",
        "- objective function: function of sum of cost and benefit (goal)\n",
        "- constraints: reality rule (cost | limited resources)"
      ],
      "metadata": {
        "id": "nPr9Y9B68gGP"
      }
    },
    {
      "cell_type": "code",
      "source": [
        "# create varaibles,set the limit\n",
        "footabll_trophies = solver.IntVar(0, 1000, \"footabll_trophies\") \n",
        "soccer_trophies = solver.IntVar(0, 1500, \"soccer_trophies\")\n",
        "\n",
        "# define constraints\n",
        "solver.Add(4*footabll_trophies + 2*soccer_trophies <= 4800)\n",
        "solver.Add(footabll_trophies + soccer_trophies <= 1750)\n",
        "\n",
        "# declare objective\n",
        "solver.Maximize(12*footabll_trophies + 9*soccer_trophies)\n",
        "\n",
        "# Solve the problem\n",
        "status = solver.Solve()\n",
        "\n",
        "# output the result \n",
        "if status == pywraplp.Solver.OPTIMAL:\n",
        "  print('================= Solution =================')\n",
        "  print(f'Solved in {solver.wall_time():.2f} milliseconds in {solver.iterations()} iterations')\n",
        "  print(f\"Build {footabll_trophies.solution_value() } football trophies.\")\n",
        "  print(f\"Build {soccer_trophies.solution_value() } soccer trophies.\")\n",
        "  print(f\"Total profit will be ${solver.Objective().Value()}\")"
      ],
      "metadata": {
        "id": "6jMcfRZD1QcZ",
        "colab": {
          "base_uri": "https://localhost:8080/"
        },
        "outputId": "2d2d41eb-fc84-4c94-ee15-8fe9ce4fb408"
      },
      "execution_count": null,
      "outputs": [
        {
          "output_type": "stream",
          "name": "stdout",
          "text": [
            "================= Solution =================\n",
            "Solved in 89331.00 milliseconds in 2 iterations\n",
            "Build 649.9999999999997 football trophies.\n",
            "Build 1100.0000000000005 soccer trophies.\n",
            "Total profit will be $17700.0\n"
          ]
        }
      ]
    },
    {
      "cell_type": "markdown",
      "source": [
        "# matrix basic\n",
        "- **matrix mutiplication**\n",
        "  - require：colum and row the same\n",
        "- **matrix transpons**: swaps row and columns\n",
        "- **vector** is matrix n by 1 matrix\n",
        "- vector multiplication\n",
        "  - **inner(dot) product**:transpons first - vector produces a scalar\n",
        "  - **outer product**:transpons second vector prodcut a $N\\times M$ matix\n",
        "-stack matrix:same dimensions can be stack and combines to bigger matrix\n",
        "- **linear** and **affine** functions\n",
        "  - linear `f(x)=Ax` \n",
        "    - $f(x_1, x_2, x_3... x_n)=a_1x_1+a_2x_2+a_3x_3...a_nx_n= a^Tx$\n",
        "    - Geometry-[**hyperplane**](https://en.wikipedia.org/wiki/Arrangement_of_hyperplanes): vector a is noraml to hyperplane\n",
        "    - Geometry-**subspace**: a setpoint satifing many linaer equation create intersection of many hpyerplanes\n",
        "      - hyperplane = number of dimension -1\n",
        "      - intersection k hyperplane dimension >= n-k\n",
        "  - affine `f(x)=Ax+b` \n",
        "    - $f(x_1, x_2, x_3... x_n)=a_0 +a_1x_1+a_2x_2+a_3x_3...a_nx_n= a^Tx+b$\n",
        "    - Geometry-**affine hyperplane**: shifted hyperplane\n",
        "      - affine combination: combinations of poins in an affine subspace\n",
        "      - Convex combinations: affine with constrain $0\\le α\\le1$\n",
        "      - affine inequalities-[**halfspace**](https://inst.eecs.berkeley.edu/~ee127/sp21/livebook/l_lqp_half_spaces.html): $a^Tx\\le b$, the intersection of halfsapce call **polyhedron**(polytope)\n",
        "    - Geomery-**subspace**: a shifted subspace\n",
        "\n",
        "\n",
        "\n"
      ],
      "metadata": {
        "id": "24YkscsXXzXH"
      }
    },
    {
      "cell_type": "markdown",
      "source": [
        "##Transform to linear program\n",
        "\n",
        "**stander form**: maximize $x∈ℜ^n$ $C^Tx$, subject to $Ax\\le b$ and $x\\geq 0$\n",
        "<details><summary>tricks</summary>\n",
        "\n",
        "  1. ocnverting min and max (negative)\n",
        "      > $min(f(x)) == -max(-f(x))$\n",
        "  2. reversing inequalities(flip sign)\n",
        "      > $Ax\\le b == (-A)x \\geq b$\n",
        "  3. equalities to inequalities(double up)\n",
        "      > $ f(x) = 0 == f(x)\\geq 0$ and $f(x)\\le 0$\n",
        "  4. inequalities to equalities(add slack)\n",
        "      > $ f(x)\\le 0 == f(x)+s = 0$ and $s\\geq 0$\n",
        "  5. unbounded to bouned(add difference)\n",
        "      > $x∈ ℜ$ == $u \\geq 0$, $v\\geq 0$ and $x = u -v$\n",
        "  6. bounded to nonegative(shift the variable)\n",
        "      > $p\\le x \\le q$ == $0\\le(x-p)$ and $x-p)≤(q-p)$ \n",
        "</details>\n",
        "\n",
        "> linear program is optimziation model with:\n",
        "  - real-valued vairbale $x ∈ ℜ^n$\n",
        "  - affine objective function(min|max) $c^Tx+d$\n",
        "  - constraints\n",
        "    - affine equation $Ax=b$\n",
        "    - affine inequalities $Ax \\le b or Ax \\geq b$\n",
        "  - indivaule variables\n",
        "    - box constraints ($ p \\le x_i \\le q$)\n",
        "    - not constraints ($ x_i∈ ℜ$)\n",
        "  - Solution of LP\n",
        "    - **Infeasible**: no solution satifies all constraints\n",
        "    - **unboundes**: solution exist, can be arbitryirly improve(missing constrain?) \n",
        "    - **on the boundary**: best solution found "
      ],
      "metadata": {
        "id": "GL4BtYK_gUbr"
      }
    },
    {
      "cell_type": "markdown",
      "source": [
        "#Stander Fomr conversion\n",
        "Conver the following linear porgram intor stander form:\n",
        "$$\\begin{aligned}\\\\\\text{minimize}\\qquad& p+q \\\\\\text{subject to :} \\qquad& 5p -3q =7 \\\\& 2p+1 \\ge 2 \\\\& 1\\le q\\le 4 \\end{aligned}$$"
      ],
      "metadata": {
        "id": "5KYr42law76Z"
      }
    },
    {
      "cell_type": "code",
      "source": [
        "from ortools.linear_solver import pywraplp\n",
        "# Create a linear solver using the GLOP backend\n",
        "solver = pywraplp.Solver('LP problem example', pywraplp.Solver.GLOP_LINEAR_PROGRAMMING)\n",
        "\n",
        "# create varaibles,set the limit\n",
        "p = solver.NumVar(-solver.infinity(),pywraplp.Solver_Infinity(),\"p\")\n",
        "q = solver.IntVar(1,4,\"q\")\n",
        "\n",
        "# define constraints\n",
        "solver.Add(5*p -3*q == 7)\n",
        "solver.Add(2*p+1>=2)\n",
        "\n",
        "# declare objective\n",
        "solver.Minimize(p+q)\n",
        "\n",
        "# Solve the problem\n",
        "status = solver.Solve()\n",
        "\n",
        "if status == pywraplp.Solver.OPTIMAL:\n",
        "  print(solver.ExportModelToProto)\n",
        "  print('================= Solution =================')\n",
        "  print(f'Solved in {solver.wall_time():.2f} milliseconds in {solver.iterations()} iterations')\n",
        "  print(f\"p = {p.solution_value()}\")\n",
        "  print(f\"q = {q.solution_value()}\")\n",
        "  print(f\"objective = {solver.Objective().Value()}\")\n",
        "\n"
      ],
      "metadata": {
        "colab": {
          "base_uri": "https://localhost:8080/"
        },
        "id": "5ds_bDJcw7hS",
        "outputId": "f5493e13-ca2d-4cba-a319-1d8a48a5e582"
      },
      "execution_count": 8,
      "outputs": [
        {
          "output_type": "stream",
          "name": "stdout",
          "text": [
            "<bound method Solver.ExportModelToProto of <ortools.linear_solver.pywraplp.Solver; proxy of <Swig Object of type 'operations_research::MPSolver *' at 0x7f9b6aaaaed0> >>\n",
            "================= Solution =================\n",
            "Solved in 1.00 milliseconds in 0 iterations\n",
            "p = 2.0\n",
            "q = 1.0\n",
            "objective = 3.0\n"
          ]
        }
      ]
    },
    {
      "cell_type": "code",
      "source": [
        ""
      ],
      "metadata": {
        "id": "IJKC905RpkFT"
      },
      "execution_count": null,
      "outputs": []
    }
  ]
}